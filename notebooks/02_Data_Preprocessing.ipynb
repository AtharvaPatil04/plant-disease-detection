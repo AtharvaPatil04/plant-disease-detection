{
 "cells": [
  {
   "cell_type": "code",
   "execution_count": 1,
   "id": "074f8a8c",
   "metadata": {},
   "outputs": [
    {
     "name": "stdout",
     "output_type": "stream",
     "text": [
      "Data dir: ..\\data\\raw\\PlantVillage\n",
      "Found 20638 files belonging to 15 classes.\n",
      "Using 16511 files for training.\n",
      "Found 20638 files belonging to 15 classes.\n",
      "Using 4127 files for validation.\n",
      "Saved class_names.json with 15 classes.\n",
      "Saved processed datasets to ..\\data\\processed\n"
     ]
    }
   ],
   "source": [
    "# 02_Data_Preprocessing.py\n",
    "# Run in notebooks/02_Data_Preprocessing.ipynb (as cells) or as a script\n",
    "\n",
    "import os\n",
    "import json\n",
    "import pathlib\n",
    "import tensorflow as tf\n",
    "\n",
    "# CONFIG\n",
    "PROJECT_ROOT = pathlib.Path(\"..\")\n",
    "DATA_DIR = PROJECT_ROOT / \"data\" / \"raw\" / \"PlantVillage\"\n",
    "MODELS_DIR = PROJECT_ROOT / \"models\"\n",
    "PROCESSED_DIR = PROJECT_ROOT / \"data\" / \"processed\"\n",
    "\n",
    "BATCH_SIZE = 32\n",
    "IMG_SIZE = (224, 224)\n",
    "SEED = 42\n",
    "\n",
    "os.makedirs(MODELS_DIR, exist_ok=True)\n",
    "os.makedirs(PROCESSED_DIR, exist_ok=True)\n",
    "\n",
    "print(\"Data dir:\", DATA_DIR)\n",
    "assert DATA_DIR.exists(), f\"Data dir {DATA_DIR} not found\"\n",
    "\n",
    "# Create tf.data datasets (image_dataset_from_directory returns uint8 images 0-255)\n",
    "train_ds = tf.keras.utils.image_dataset_from_directory(\n",
    "    str(DATA_DIR),\n",
    "    validation_split=0.2,\n",
    "    subset=\"training\",\n",
    "    seed=SEED,\n",
    "    image_size=IMG_SIZE,\n",
    "    batch_size=BATCH_SIZE\n",
    ")\n",
    "\n",
    "val_ds = tf.keras.utils.image_dataset_from_directory(\n",
    "    str(DATA_DIR),\n",
    "    validation_split=0.2,\n",
    "    subset=\"validation\",\n",
    "    seed=SEED,\n",
    "    image_size=IMG_SIZE,\n",
    "    batch_size=BATCH_SIZE\n",
    ")\n",
    "\n",
    "# Save class names mapping to models folder for later inference\n",
    "class_names = train_ds.class_names\n",
    "with open(MODELS_DIR / \"class_names.json\", \"w\", encoding=\"utf-8\") as f:\n",
    "    json.dump(class_names, f, indent=2)\n",
    "print(\"Saved class_names.json with\", len(class_names), \"classes.\")\n",
    "\n",
    "# Cache & prefetch for performance\n",
    "AUTOTUNE = tf.data.AUTOTUNE\n",
    "train_ds = train_ds.cache().shuffle(1000).prefetch(buffer_size=AUTOTUNE)\n",
    "val_ds = val_ds.cache().prefetch(buffer_size=AUTOTUNE)\n",
    "\n",
    "# Optional: Save processed datasets (TF Dataset .save); use stable API\n",
    "# Save after resizing/batching (image_dataset_from_directory already batches and resizes)\n",
    "tf.data.Dataset.save(train_ds, str(PROCESSED_DIR / \"train_ds\"))\n",
    "tf.data.Dataset.save(val_ds, str(PROCESSED_DIR / \"val_ds\"))\n",
    "print(\"Saved processed datasets to\", PROCESSED_DIR)\n"
   ]
  },
  {
   "cell_type": "code",
   "execution_count": null,
   "id": "15ef9c20",
   "metadata": {},
   "outputs": [],
   "source": []
  }
 ],
 "metadata": {
  "kernelspec": {
   "display_name": "venv_tf",
   "language": "python",
   "name": "python3"
  },
  "language_info": {
   "codemirror_mode": {
    "name": "ipython",
    "version": 3
   },
   "file_extension": ".py",
   "mimetype": "text/x-python",
   "name": "python",
   "nbconvert_exporter": "python",
   "pygments_lexer": "ipython3",
   "version": "3.9.0"
  }
 },
 "nbformat": 4,
 "nbformat_minor": 5
}
